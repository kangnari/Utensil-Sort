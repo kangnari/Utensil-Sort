{
 "cells": [
  {
   "cell_type": "code",
   "execution_count": 38,
   "metadata": {
    "collapsed": true
   },
   "outputs": [],
   "source": [
    "import scipy as sp\n",
    "import numpy as np\n",
    "import matplotlib.image as mpimg\n",
    "import matplotlib.pyplot as plt\n",
    "from scipy import signal as signal\n",
    "from scipy import ndimage as ndimage\n",
    "from numpy import random as random\n",
    "import Queue\n",
    "%matplotlib inline"
   ]
  },
  {
   "cell_type": "code",
   "execution_count": 32,
   "metadata": {
    "collapsed": false
   },
   "outputs": [],
   "source": [
    "def generateRandomFloor(xDim, yDim):\n",
    "    minPile = 5\n",
    "    maxPile = 10\n",
    "    floor = np.zeros([xDim, yDim])\n",
    "    for i in range(0, 4):\n",
    "        x = random.random_integers(xDim)\n",
    "        sizeX = random.random_integers(minPile, maxPile)\n",
    "        y = random.random_integers(yDim)\n",
    "        sizeY = random.random_integers(minPile, maxPile)\n",
    "        \n",
    "        startX = max(0, x-sizeX)\n",
    "        endX = min(xDim-1, x+sizeX)\n",
    "        \n",
    "        startY = max(0, y-sizeY)\n",
    "        endY = min(yDim-1, y+sizeY)\n",
    "        \n",
    "        floor[startX:endX+1, startY:endY+1] = 1\n",
    "        \n",
    "    return floor"
   ]
  },
  {
   "cell_type": "code",
   "execution_count": null,
   "metadata": {
    "collapsed": true
   },
   "outputs": [],
   "source": [
    "def pathPlanner(floor, start, end):\n",
    "    [xDim yDim] = np.size(floor)\n",
    "    path = np.zeros([xDim yDim])\n",
    "    done = false\n",
    "    while !done:\n",
    "        soFar = np.zeros([xDim yDim])\n",
    "        \n",
    "        setDirection(end, soFar, cost)"
   ]
  },
  {
   "cell_type": "code",
   "execution_count": 134,
   "metadata": {
    "collapsed": true
   },
   "outputs": [],
   "source": [
    "\"\"\"Lifted directly from: https://teacode.wordpress.com/2013/08/02/algo-week-5-heap-and-dijkstras-shortest-path/\"\"\"\n",
    "import heapq\n",
    "\n",
    "class PriorityQueue(object):\n",
    "    \"\"\"Priority queue based on heap, capable of inserting a new node with\n",
    "    desired priority, updating the priority of an existing node and deleting\n",
    "    an abitrary node while keeping invariant\"\"\"\n",
    " \n",
    "    def __init__(self, heap=[]):\n",
    "        \"\"\"if 'heap' is not empty, make sure it's heapified\"\"\"\n",
    " \n",
    "        heapq.heapify(heap)\n",
    "        self.heap = heap\n",
    "        self.entry_finder = dict({i[-1]: i for i in heap})\n",
    "        self.REMOVED = '<remove_marker>'\n",
    " \n",
    "    def insert(self, nodeIn, priority=0):\n",
    "        \"\"\"'entry_finder' bookkeeps all valid entries, which are bonded in\n",
    "        'heap'. Changing an entry in either leads to changes in both.\"\"\"\n",
    "        node = self.ptToString(nodeIn)\n",
    "        if node in self.entry_finder:\n",
    "            self.delete(node)\n",
    "        entry = [priority, node]\n",
    "        self.entry_finder[node] = entry\n",
    "        heapq.heappush(self.heap, entry)\n",
    " \n",
    "    def delete(self, node):\n",
    "        \"\"\"Instead of breaking invariant by direct removal of an entry, mark\n",
    "        the entry as \"REMOVED\" in 'heap' and remove it from 'entry_finder'.\n",
    "        Logic in 'pop()' properly takes care of the deleted nodes.\"\"\"\n",
    " \n",
    "        entry = self.entry_finder.pop(node)\n",
    "        entry[-1] = self.REMOVED\n",
    "        return entry[0]\n",
    " \n",
    "    def pop(self):\n",
    "        \"\"\"Any popped node marked by \"REMOVED\" does not return, the deleted\n",
    "        nodes might be popped or still in heap, either case is fine.\"\"\"\n",
    " \n",
    "        while self.heap:\n",
    "            priority, node = heapq.heappop(self.heap)\n",
    "            if node is not self.REMOVED:\n",
    "                del self.entry_finder[node]\n",
    "                return priority, self.stringToPt(node)\n",
    "        raise KeyError('pop from an empty priority queue')\n",
    "        \n",
    "    def ptToString(self, pt):\n",
    "        return str(pt[0]) + \",\" + str(pt[1])\n",
    "    \n",
    "    def stringToPt(self, inStr):\n",
    "        return [int(x.strip()) for x in inStr.split(',')]"
   ]
  },
  {
   "cell_type": "markdown",
   "metadata": {},
   "source": [
    "**TO DO**\n",
    "It might be a good idea to minimize turns, and generate paths which are less jagged. This can be done quite simply by modifying the getLength() function to also take in the coordinate previous to u, and having neighbors in the same direction weighted less than neighbors which would require turning. "
   ]
  },
  {
   "cell_type": "code",
   "execution_count": 135,
   "metadata": {
    "collapsed": false
   },
   "outputs": [],
   "source": [
    "def Dijkstra(graph, source):\n",
    "    [X, Y] = graph.shape\n",
    "    dist = np.zeros(graph.shape)\n",
    "    prev = np.zeros([X, Y, 2])\n",
    "    dist[source[0], source[1]] = 0                                  \n",
    "\n",
    "    Q = PriorityQueue()\n",
    "    numPtsLeft = X*Y;\n",
    "    \n",
    "    for x in range(0, X):\n",
    "        for y in range(0, Y):\n",
    "            v = [x, y]\n",
    "            if x != source[0] or y != source[1]:\n",
    "                dist[x, y] = float('Inf')\n",
    "                prev[x, y, :] = [-1, -1]\n",
    "            else:\n",
    "                dist[x, y] = 0\n",
    "                prev[x, y, :] = [0, 0]\n",
    "            Q.insert(v, priority=dist[x, y])\n",
    "            \n",
    "    while numPtsLeft > 0:\n",
    "        [priority, u] = Q.pop()\n",
    "        numPtsLeft -= 1\n",
    "        neighbors = getNeighbors(u, X, Y)\n",
    "        for idx in neighbors:\n",
    "            v = neighbors[idx]\n",
    "            newDist = dist[u[0], u[1]] + getLength(u, v, graph)\n",
    "            if newDist < dist[v[0], v[1]]:\n",
    "                dist[v[0], v[1]] = newDist\n",
    "                prev[v[0], v[1], :] = u\n",
    "                Q.insert(v, priority=newDist)\n",
    "                \n",
    "    return dist, prev\n",
    "\n",
    "def getNeighbors(pt, X, Y):\n",
    "    neighbors = {}\n",
    "    x = pt[0]\n",
    "    y = pt[1]\n",
    "    \n",
    "    i = 0\n",
    "    if x > 0:\n",
    "        neighbors[i] = [x-1, y]\n",
    "        i+=1\n",
    "    if x < X-1:\n",
    "        neighbors[i] = [x+1, y]\n",
    "        i+=1\n",
    "    if y > 0:\n",
    "        neighbors[i] = [x, y-1]\n",
    "        i+=1\n",
    "    if y < Y-1:\n",
    "        neighbors[i] = [x, y+1]\n",
    "    return neighbors\n",
    "\n",
    "def getLength(u, v, graph):\n",
    "    length = 1\n",
    "    if graph[v[0], v[1]] == 1:\n",
    "        length = 1000\n",
    "    return length"
   ]
  },
  {
   "cell_type": "code",
   "execution_count": 136,
   "metadata": {
    "collapsed": true
   },
   "outputs": [],
   "source": [
    "def showPath(floor, prev, source, dest):\n",
    "    curr= dest\n",
    "    currX = dest[0]\n",
    "    currY = dest[1]\n",
    "    \n",
    "    srcX = source[0]\n",
    "    srcY = source[1]\n",
    "    while currX != srcX or currY != srcY:\n",
    "        floor[currX, currY] = 0.5\n",
    "        curr = prev[currX, currY, :]\n",
    "        currX = curr[0]\n",
    "        currY = curr[1]\n",
    "    plt.figure()\n",
    "    plt.imshow(floor.astype(float), interpolation='nearest')\n",
    "    plt.show()"
   ]
  },
  {
   "cell_type": "code",
   "execution_count": 144,
   "metadata": {
    "collapsed": false
   },
   "outputs": [
    {
     "data": {
      "image/png": "[encoded data removed]",
      "text/plain": [
       "<matplotlib.figure.Figure at 0x1667b898>"
      ]
     },
     "metadata": {},
     "output_type": "display_data"
    },
    {
     "name": "stdout",
     "output_type": "stream",
     "text": [
      "Path to: (89,98)\n"
     ]
    },
    {
     "name": "stderr",
     "output_type": "stream",
     "text": [
      "C:\\Users\\Mohini\\Anaconda\\lib\\site-packages\\ipykernel\\__main__.py:9: DeprecationWarning: using a non-integer number instead of an integer will result in an error in the future\n",
      "C:\\Users\\Mohini\\Anaconda\\lib\\site-packages\\ipykernel\\__main__.py:10: DeprecationWarning: using a non-integer number instead of an integer will result in an error in the future\n"
     ]
    },
    {
     "data": {
      "image/png": "[encoded data removed]",
      "text/plain": [
       "<matplotlib.figure.Figure at 0x151c1160>"
      ]
     },
     "metadata": {},
     "output_type": "display_data"
    }
   ],
   "source": [
    "xDim = 100\n",
    "yDim = 100\n",
    "floor = generateRandomFloor(xDim, yDim)\n",
    "dest = [random.random_integers(xDim-1), random.random_integers(yDim-1)]\n",
    "\n",
    "plt.figure()\n",
    "plt.imshow(floor.astype(float), interpolation='nearest')\n",
    "plt.show()\n",
    "\n",
    "dist, prev = Dijkstra(floor, [0, 0])\n",
    "\n",
    "src = [0, 0]\n",
    "print 'Path to: (' + str(dest[0]) + ',' + str(dest[1]) + ')'\n",
    "showPath(floor, prev, src, dest)"
   ]
  }
 ],
 "metadata": {
  "kernelspec": {
   "display_name": "Python 2",
   "language": "python",
   "name": "python2"
  },
  "language_info": {
   "codemirror_mode": {
    "name": "ipython",
    "version": 2
   },
   "file_extension": ".py",
   "mimetype": "text/x-python",
   "name": "python",
   "nbconvert_exporter": "python",
   "pygments_lexer": "ipython2",
   "version": "2.7.8"
  }
 },
 "nbformat": 4,
 "nbformat_minor": 0
}
